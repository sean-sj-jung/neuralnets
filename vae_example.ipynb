{
 "cells": [
  {
   "cell_type": "code",
   "execution_count": null,
   "metadata": {},
   "outputs": [],
   "source": []
  },
  {
   "cell_type": "code",
   "execution_count": null,
   "metadata": {},
   "outputs": [],
   "source": [
    "import numpy as np\n",
    "import pandas as pd\n",
    "import time\n",
    "import pickle\n",
    "import os\n",
    "import matplotlib.pyplot as plt\n",
    "from impala.dbapi import connect\n",
    "\n",
    "from sklearn.cluster import KMeans\n",
    "from sklearn.metrics import roc_auc_score\n",
    "\n",
    "import torch\n",
    "import torch.nn as nn\n",
    "import torch.nn.functional as F\n",
    "from torch import optim\n",
    "from torch.utils.data import Dataset, DataLoader, ConcatDataset\n",
    "\n",
    "device = torch.device('cuda' if torch.cuda.is_available() else 'cpu')\n",
    "seed = 55"
   ]
  },
  {
   "cell_type": "code",
   "execution_count": null,
   "metadata": {},
   "outputs": [],
   "source": [
    "TRAIN_BATCH_SIZE = 2048\n",
    "VALID_BATCH_SIZE = 9999\n",
    "validation_split = 0.8\n",
    "\n",
    "split = int(df.shape[0]*validation_split)\n",
    "split_idx = list(range(df.shape[0]))\n",
    "\n",
    "np.random.seed(seed)\n",
    "np.random.shuffle(split_idx)\n",
    "\n",
    "train_idx, valid_idx = split_idx[:split], split_idx[split:]\n",
    "print('train vs val:', len(train_idx), len(valid_idx))"
   ]
  },
  {
   "cell_type": "code",
   "execution_count": null,
   "metadata": {},
   "outputs": [],
   "source": [
    "class TX_Dataset(Dataset):\n",
    "    def __init__(self, df):\n",
    "        self.df = df\n",
    "\n",
    "    def __len__(self):\n",
    "        return(len(self.df))\n",
    "    \n",
    "    def __getitem__(self, idx):\n",
    "        x = self.df[idx]\n",
    "        return x"
   ]
  },
  {
   "cell_type": "code",
   "execution_count": null,
   "metadata": {},
   "outputs": [],
   "source": [
    "dataset_train = TX_Dataset(df[train_idx])\n",
    "dataset_valid = TX_Dataset(df[valid_idx])\n",
    "\n",
    "train_loader = DataLoader(dataset_train, \n",
    "                          batch_size=TRAIN_BATCH_SIZE, \n",
    "                          num_workers=1,\n",
    "                          pin_memory = True)\n",
    "\n",
    "valid_loader = DataLoader(dataset_valid, \n",
    "                          batch_size=VALID_BATCH_SIZE,\n",
    "                          num_workers=1, \n",
    "                          pin_memory = True)"
   ]
  },
  {
   "cell_type": "code",
   "execution_count": null,
   "metadata": {},
   "outputs": [],
   "source": [
    "class VAETX(nn.Module):\n",
    "    def __init__(self):\n",
    "        super(VAETX, self).__init__()\n",
    "        self.fc1 = nn.Linear(464, 100)\n",
    "        self.fc21 = nn.Linear(100, 10)\n",
    "        self.fc22 = nn.Linear(100, 10)\n",
    "        self.fc3 = nn.Linear(10, 100)\n",
    "        self.fc4 = nn.Linear(100, 464)\n",
    "\n",
    "    def encode(self, x):\n",
    "        h1 = F.relu(self.fc1(x))\n",
    "        return self.fc21(h1), self.fc22(h1)\n",
    "\n",
    "    def reparameterize(self, mu, logvar):\n",
    "        std = torch.exp(0.5*logvar)\n",
    "        eps = torch.randn_like(std)\n",
    "        return mu + eps*std\n",
    "\n",
    "    def decode(self, z):\n",
    "        h3 = F.relu(self.fc3(z))\n",
    "        return torch.sigmoid(self.fc4(h3))\n",
    "\n",
    "    def forward(self, x):\n",
    "        mu, logvar = self.encode(x.view(-1, 464))\n",
    "        z = self.reparameterize(mu, logvar)\n",
    "        return self.decode(z), mu, logvar"
   ]
  },
  {
   "cell_type": "code",
   "execution_count": null,
   "metadata": {},
   "outputs": [],
   "source": [
    "def loss_function(recon_x, x, mu, log_var):\n",
    "    BCE = F.binary_cross_entropy(recon_x, x, reduction='sum')\n",
    "    KLD = -0.5 * torch.sum(1+log_var - mu.pow(2) - log_var.exp())\n",
    "    return BCE + KLD"
   ]
  },
  {
   "cell_type": "code",
   "execution_count": null,
   "metadata": {},
   "outputs": [],
   "source": [
    "vae_extractor = VAETX()\n",
    "vae_extractor = vae_extractor.to(device)\n",
    "\n",
    "LEARNING_RATE = 0.01\n",
    "optimizer = optim.Adam(vae_extractor.parameters(), lr = LEARNING_RATE)\n",
    "\n",
    "beg = time.time()\n",
    "NUM_EPOCH = 200\n",
    "train_loss_plot = []\n",
    "valid_loss_plot = []\n",
    "\n",
    "for epoch in range(NUM_EPOCH):\n",
    "    vae_extractor.train()\n",
    "    train_losses = 0\n",
    "    valid_losses = 0\n",
    "\n",
    "    for x_tr in train_loader:\n",
    "        x_tr = x_tr.to(device)\n",
    "        optimizer.zero_grad()\n",
    "        \n",
    "        x_hat, mu, logvar = vae_extractor(x_tr.float())\n",
    "        loss = loss_function(x_hat, x_tr, mu, logvar)\n",
    "\n",
    "        loss.backward()\n",
    "        train_losses += loss.item()\n",
    "        \n",
    "#         torch.nn.utils.clip_grad_norm_(vae_extractor.parameters(), 5)\n",
    "        optimizer.step()\n",
    "\n",
    "    with torch.no_grad():\n",
    "        vae_extractor.eval()\n",
    "        for x_val in valid_loader:\n",
    "            x_val = x_val.to(device)\n",
    "\n",
    "            x_hat_val, mu_val, logvar_val = vae_extractor(x_val.float())\n",
    "            val_loss = loss_function(x_hat_val, x_val, mu_val, logvar_val)\n",
    "            valid_losses += val_loss.item()\n",
    "            \n",
    "    train_loss_plot.append(train_losses/len(train_loader.dataset))\n",
    "    valid_loss_plot.append(valid_losses/len(valid_loader.dataset))\n",
    "    \n",
    "    print('Epoch:', epoch, \n",
    "          'Train Loss: {:.4f}'.format(train_losses/len(train_loader.dataset)),\n",
    "          'Valid Loss: {:.4f}'.format(valid_losses/len(valid_loader.dataset)))"
   ]
  },
  {
   "cell_type": "code",
   "execution_count": null,
   "metadata": {},
   "outputs": [],
   "source": []
  },
  {
   "cell_type": "code",
   "execution_count": null,
   "metadata": {},
   "outputs": [],
   "source": []
  },
  {
   "cell_type": "code",
   "execution_count": null,
   "metadata": {},
   "outputs": [],
   "source": []
  }
 ],
 "metadata": {
  "kernelspec": {
   "display_name": "Python 3",
   "language": "python",
   "name": "python3"
  },
  "language_info": {
   "codemirror_mode": {
    "name": "ipython",
    "version": 3
   },
   "file_extension": ".py",
   "mimetype": "text/x-python",
   "name": "python",
   "nbconvert_exporter": "python",
   "pygments_lexer": "ipython3",
   "version": "3.7.4"
  }
 },
 "nbformat": 4,
 "nbformat_minor": 2
}
